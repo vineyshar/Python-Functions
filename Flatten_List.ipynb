{
 "cells": [
  {
   "cell_type": "code",
   "execution_count": 1,
   "metadata": {},
   "outputs": [],
   "source": [
    "def flatten(arr):\n",
    "    \n",
    "    stack = arr\n",
    "    \n",
    "    result = []\n",
    "    \n",
    "    while stack:\n",
    "        print('current_arr: ', arr)\n",
    "        current = arr.pop()\n",
    "        \n",
    "        print('arr_after_pop: ', arr)\n",
    "        print('current: ', current )\n",
    "        \n",
    "        if isinstance(current, list):\n",
    "            print('---------------------')\n",
    "            print('list')\n",
    "            stack.extend(current)\n",
    "            print('stack:', stack)\n",
    "            print('---------------------')\n",
    "        else:\n",
    "            print('---------------------')\n",
    "            print('not a list')\n",
    "            result.append(current)\n",
    "            print('result:',result)\n",
    "            print('---------------------')\n",
    "    \n",
    "    result.sort()\n",
    "    return result"
   ]
  },
  {
   "cell_type": "code",
   "execution_count": 2,
   "metadata": {},
   "outputs": [],
   "source": [
    "a = [10, 20, 30, [40, 50], [80, [ 70, 60]], 100]"
   ]
  },
  {
   "cell_type": "code",
   "execution_count": 3,
   "metadata": {},
   "outputs": [
    {
     "name": "stdout",
     "output_type": "stream",
     "text": [
      "current_arr:  [10, 20, 30, [40, 50], [80, [70, 60]], 100]\n",
      "arr_after_pop:  [10, 20, 30, [40, 50], [80, [70, 60]]]\n",
      "current:  100\n",
      "---------------------\n",
      "not a list\n",
      "result: [100]\n",
      "---------------------\n",
      "current_arr:  [10, 20, 30, [40, 50], [80, [70, 60]]]\n",
      "arr_after_pop:  [10, 20, 30, [40, 50]]\n",
      "current:  [80, [70, 60]]\n",
      "---------------------\n",
      "list\n",
      "stack: [10, 20, 30, [40, 50], 80, [70, 60]]\n",
      "---------------------\n",
      "current_arr:  [10, 20, 30, [40, 50], 80, [70, 60]]\n",
      "arr_after_pop:  [10, 20, 30, [40, 50], 80]\n",
      "current:  [70, 60]\n",
      "---------------------\n",
      "list\n",
      "stack: [10, 20, 30, [40, 50], 80, 70, 60]\n",
      "---------------------\n",
      "current_arr:  [10, 20, 30, [40, 50], 80, 70, 60]\n",
      "arr_after_pop:  [10, 20, 30, [40, 50], 80, 70]\n",
      "current:  60\n",
      "---------------------\n",
      "not a list\n",
      "result: [100, 60]\n",
      "---------------------\n",
      "current_arr:  [10, 20, 30, [40, 50], 80, 70]\n",
      "arr_after_pop:  [10, 20, 30, [40, 50], 80]\n",
      "current:  70\n",
      "---------------------\n",
      "not a list\n",
      "result: [100, 60, 70]\n",
      "---------------------\n",
      "current_arr:  [10, 20, 30, [40, 50], 80]\n",
      "arr_after_pop:  [10, 20, 30, [40, 50]]\n",
      "current:  80\n",
      "---------------------\n",
      "not a list\n",
      "result: [100, 60, 70, 80]\n",
      "---------------------\n",
      "current_arr:  [10, 20, 30, [40, 50]]\n",
      "arr_after_pop:  [10, 20, 30]\n",
      "current:  [40, 50]\n",
      "---------------------\n",
      "list\n",
      "stack: [10, 20, 30, 40, 50]\n",
      "---------------------\n",
      "current_arr:  [10, 20, 30, 40, 50]\n",
      "arr_after_pop:  [10, 20, 30, 40]\n",
      "current:  50\n",
      "---------------------\n",
      "not a list\n",
      "result: [100, 60, 70, 80, 50]\n",
      "---------------------\n",
      "current_arr:  [10, 20, 30, 40]\n",
      "arr_after_pop:  [10, 20, 30]\n",
      "current:  40\n",
      "---------------------\n",
      "not a list\n",
      "result: [100, 60, 70, 80, 50, 40]\n",
      "---------------------\n",
      "current_arr:  [10, 20, 30]\n",
      "arr_after_pop:  [10, 20]\n",
      "current:  30\n",
      "---------------------\n",
      "not a list\n",
      "result: [100, 60, 70, 80, 50, 40, 30]\n",
      "---------------------\n",
      "current_arr:  [10, 20]\n",
      "arr_after_pop:  [10]\n",
      "current:  20\n",
      "---------------------\n",
      "not a list\n",
      "result: [100, 60, 70, 80, 50, 40, 30, 20]\n",
      "---------------------\n",
      "current_arr:  [10]\n",
      "arr_after_pop:  []\n",
      "current:  10\n",
      "---------------------\n",
      "not a list\n",
      "result: [100, 60, 70, 80, 50, 40, 30, 20, 10]\n",
      "---------------------\n"
     ]
    },
    {
     "data": {
      "text/plain": [
       "[10, 20, 30, 40, 50, 60, 70, 80, 100]"
      ]
     },
     "execution_count": 3,
     "metadata": {},
     "output_type": "execute_result"
    }
   ],
   "source": [
    "flatten(a)"
   ]
  }
 ],
 "metadata": {
  "kernelspec": {
   "display_name": "Python 3.9.6 64-bit",
   "language": "python",
   "name": "python3"
  },
  "language_info": {
   "codemirror_mode": {
    "name": "ipython",
    "version": 3
   },
   "file_extension": ".py",
   "mimetype": "text/x-python",
   "name": "python",
   "nbconvert_exporter": "python",
   "pygments_lexer": "ipython3",
   "version": "3.9.6"
  },
  "orig_nbformat": 4,
  "vscode": {
   "interpreter": {
    "hash": "07150880df404c78dbae34d33fca60cbec6116fc6507843fab71061c76076a75"
   }
  }
 },
 "nbformat": 4,
 "nbformat_minor": 2
}
